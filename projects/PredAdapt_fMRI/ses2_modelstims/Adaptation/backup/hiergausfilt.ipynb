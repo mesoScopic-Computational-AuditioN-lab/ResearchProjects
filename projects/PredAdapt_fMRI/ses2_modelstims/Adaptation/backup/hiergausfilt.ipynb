{
 "cells": [
  {
   "cell_type": "code",
   "execution_count": 12,
   "id": "23eb34e4",
   "metadata": {},
   "outputs": [],
   "source": [
    "import matlab.engine"
   ]
  },
  {
   "cell_type": "code",
   "execution_count": 13,
   "id": "e34a9362",
   "metadata": {},
   "outputs": [],
   "source": [
    "engine = matlab.engine.start_matlab()"
   ]
  },
  {
   "cell_type": "code",
   "execution_count": 14,
   "id": "c3629a58",
   "metadata": {},
   "outputs": [],
   "source": [
    "engine.initiate_hgf(nargout=0) # try to load from matlab but dont return outputs"
   ]
  },
  {
   "cell_type": "code",
   "execution_count": 20,
   "id": "f2ede898",
   "metadata": {},
   "outputs": [
    {
     "data": {
      "text/plain": [
       "20"
      ]
     },
     "execution_count": 20,
     "metadata": {},
     "output_type": "execute_result"
    }
   ],
   "source": [
    "def a(aa, bb):\n",
    "    return(aa-bb)\n",
    "    \n",
    "def b(aa, bb):\n",
    "    return(aa+bb)\n",
    "\n",
    "func_dict = {}\n",
    "func_dict['a'] = a\n",
    "func_dict['b'] = b\n",
    "\n",
    "func_dict['b'](10, 10)"
   ]
  },
  {
   "cell_type": "code",
   "execution_count": null,
   "id": "f91a626a",
   "metadata": {},
   "outputs": [],
   "source": []
  }
 ],
 "metadata": {
  "kernelspec": {
   "display_name": "Python 3",
   "language": "python",
   "name": "python3"
  },
  "language_info": {
   "codemirror_mode": {
    "name": "ipython",
    "version": 3
   },
   "file_extension": ".py",
   "mimetype": "text/x-python",
   "name": "python",
   "nbconvert_exporter": "python",
   "pygments_lexer": "ipython3",
   "version": "3.9.4"
  }
 },
 "nbformat": 4,
 "nbformat_minor": 5
}
