{
 "cells": [
  {
   "cell_type": "code",
   "execution_count": 7,
   "id": "56387040",
   "metadata": {},
   "outputs": [
    {
     "ename": "TypeError",
     "evalue": "unsupported Python data type: numpy.ndarray",
     "output_type": "error",
     "traceback": [
      "\u001b[0;31m---------------------------------------------------------------------------\u001b[0m",
      "\u001b[0;31mTypeError\u001b[0m                                 Traceback (most recent call last)",
      "Input \u001b[0;32mIn [7]\u001b[0m, in \u001b[0;36m<cell line: 6>\u001b[0;34m()\u001b[0m\n\u001b[1;32m      2\u001b[0m eng \u001b[38;5;241m=\u001b[39m matlab\u001b[38;5;241m.\u001b[39mengine\u001b[38;5;241m.\u001b[39mstart_matlab()\n\u001b[1;32m      4\u001b[0m x \u001b[38;5;241m=\u001b[39m np\u001b[38;5;241m.\u001b[39mrandom\u001b[38;5;241m.\u001b[39mrand(\u001b[38;5;241m100\u001b[39m)\n\u001b[0;32m----> 6\u001b[0m \u001b[43meng\u001b[49m\u001b[38;5;241;43m.\u001b[39;49m\u001b[43mrun_DREX_model\u001b[49m\u001b[43m(\u001b[49m\u001b[43mx\u001b[49m\u001b[43m)\u001b[49m\n",
      "File \u001b[0;32m~/miniconda3/envs/predlis/lib/python3.8/site-packages/matlab/engine/matlabengine.py:64\u001b[0m, in \u001b[0;36mMatlabFunc.__call__\u001b[0;34m(self, *args, **kwargs)\u001b[0m\n\u001b[1;32m     61\u001b[0m     _stderr_info \u001b[38;5;241m=\u001b[39m \u001b[38;5;124m'\u001b[39m\u001b[38;5;132;01m{0}\u001b[39;00m\u001b[38;5;124m.\u001b[39m\u001b[38;5;132;01m{1}\u001b[39;00m\u001b[38;5;124m'\u001b[39m\u001b[38;5;241m.\u001b[39mformat(_stderr\u001b[38;5;241m.\u001b[39m\u001b[38;5;18m__class__\u001b[39m\u001b[38;5;241m.\u001b[39m\u001b[38;5;18m__module__\u001b[39m, _stderr\u001b[38;5;241m.\u001b[39m\u001b[38;5;18m__class__\u001b[39m\u001b[38;5;241m.\u001b[39m\u001b[38;5;18m__name__\u001b[39m);\n\u001b[1;32m     62\u001b[0m     \u001b[38;5;28;01mraise\u001b[39;00m \u001b[38;5;167;01mTypeError\u001b[39;00m(pythonengine\u001b[38;5;241m.\u001b[39mgetMessage(\u001b[38;5;124m'\u001b[39m\u001b[38;5;124mStderrMustBeStringIO\u001b[39m\u001b[38;5;124m'\u001b[39m, _sIO_info, _stderr_info))\n\u001b[0;32m---> 64\u001b[0m future \u001b[38;5;241m=\u001b[39m \u001b[43mpythonengine\u001b[49m\u001b[38;5;241;43m.\u001b[39;49m\u001b[43mevaluateFunction\u001b[49m\u001b[43m(\u001b[49m\u001b[38;5;28;43mself\u001b[39;49m\u001b[38;5;241;43m.\u001b[39;49m\u001b[43m_engine\u001b[49m\u001b[43m(\u001b[49m\u001b[43m)\u001b[49m\u001b[38;5;241;43m.\u001b[39;49m\u001b[43m_matlab\u001b[49m\u001b[43m,\u001b[49m\n\u001b[1;32m     65\u001b[0m \u001b[43m                                       \u001b[49m\u001b[38;5;28;43mself\u001b[39;49m\u001b[38;5;241;43m.\u001b[39;49m\u001b[43m_name\u001b[49m\u001b[43m,\u001b[49m\u001b[43m \u001b[49m\u001b[43mnargs\u001b[49m\u001b[43m,\u001b[49m\u001b[43margs\u001b[49m\u001b[43m,\u001b[49m\n\u001b[1;32m     66\u001b[0m \u001b[43m                                       \u001b[49m\u001b[43mout\u001b[49m\u001b[38;5;241;43m=\u001b[39;49m\u001b[43m_stdout\u001b[49m\u001b[43m,\u001b[49m\u001b[43m \u001b[49m\u001b[43merr\u001b[49m\u001b[38;5;241;43m=\u001b[39;49m\u001b[43m_stderr\u001b[49m\u001b[43m)\u001b[49m\n\u001b[1;32m     67\u001b[0m \u001b[38;5;28;01mif\u001b[39;00m background:\n\u001b[1;32m     68\u001b[0m     \u001b[38;5;28;01mreturn\u001b[39;00m FutureResult(\u001b[38;5;28mself\u001b[39m\u001b[38;5;241m.\u001b[39m_engine(), future, nargs, _stdout, _stderr, feval\u001b[38;5;241m=\u001b[39m\u001b[38;5;28;01mTrue\u001b[39;00m)\n",
      "\u001b[0;31mTypeError\u001b[0m: unsupported Python data type: numpy.ndarray"
     ]
    }
   ],
   "source": [
    "import matlab.engine\n",
    "eng = matlab.engine.start_matlab()\n",
    "\n",
    "x = np.random.rand(100)\n",
    "\n",
    "eng.run_DREX_model(x)"
   ]
  },
  {
   "cell_type": "code",
   "execution_count": 5,
   "id": "f9779f73",
   "metadata": {},
   "outputs": [
    {
     "data": {
      "text/plain": [
       "array([0.00478413, 0.42452337, 0.12921161, 0.27222855, 0.04305512,\n",
       "       0.78012722, 0.91262536, 0.07858242, 0.85397087, 0.87689973,\n",
       "       0.19397764, 0.72882145, 0.47973913, 0.49720029, 0.88281238,\n",
       "       0.82226376, 0.82635658, 0.52996645, 0.27720538, 0.04055978,\n",
       "       0.93627628, 0.67884695, 0.27331376, 0.23527239, 0.41761304,\n",
       "       0.53641502, 0.36270446, 0.22152343, 0.73723212, 0.13721038,\n",
       "       0.58546591, 0.91744767, 0.41716381, 0.89869756, 0.46775217,\n",
       "       0.05827773, 0.62713942, 0.96875316, 0.71242433, 0.72201425,\n",
       "       0.24674968, 0.01761665, 0.57862777, 0.04419293, 0.27194071,\n",
       "       0.93878744, 0.94807925, 0.08518509, 0.18586599, 0.36522481,\n",
       "       0.0778299 , 0.69234364, 0.9714414 , 0.36191533, 0.33203138,\n",
       "       0.54331726, 0.52306224, 0.41808442, 0.49858423, 0.25295494,\n",
       "       0.91347487, 0.76814941, 0.74571685, 0.98681322, 0.22416765,\n",
       "       0.04484609, 0.95252348, 0.91768983, 0.22029625, 0.52589522,\n",
       "       0.3487354 , 0.55867086, 0.88537935, 0.84412703, 0.38769704,\n",
       "       0.48629851, 0.82229873, 0.37635267, 0.4146335 , 0.62977701,\n",
       "       0.27256173, 0.50582829, 0.42888639, 0.84904322, 0.21331832,\n",
       "       0.40952133, 0.36261839, 0.33889194, 0.85977493, 0.05223395,\n",
       "       0.56369756, 0.8122001 , 0.6064828 , 0.96117351, 0.95051803,\n",
       "       0.39127965, 0.65630761, 0.92154371, 0.78654227, 0.91634412])"
      ]
     },
     "execution_count": 5,
     "metadata": {},
     "output_type": "execute_result"
    }
   ],
   "source": [
    "eng."
   ]
  },
  {
   "cell_type": "code",
   "execution_count": null,
   "id": "c101865f",
   "metadata": {},
   "outputs": [],
   "source": []
  }
 ],
 "metadata": {
  "kernelspec": {
   "display_name": "Python 3 (ipykernel)",
   "language": "python",
   "name": "python3"
  },
  "language_info": {
   "codemirror_mode": {
    "name": "ipython",
    "version": 3
   },
   "file_extension": ".py",
   "mimetype": "text/x-python",
   "name": "python",
   "nbconvert_exporter": "python",
   "pygments_lexer": "ipython3",
   "version": "3.8.13"
  }
 },
 "nbformat": 4,
 "nbformat_minor": 5
}
