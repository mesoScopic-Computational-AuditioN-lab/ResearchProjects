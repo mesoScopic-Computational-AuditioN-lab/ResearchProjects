{
 "cells": [
  {
   "cell_type": "markdown",
   "id": "a1b5587f",
   "metadata": {},
   "source": [
    "### pRF estimation\n",
    "first attempt to do prf estimation - with permuations - in python"
   ]
  },
  {
   "cell_type": "code",
   "execution_count": 1,
   "id": "a3bfc60f",
   "metadata": {},
   "outputs": [
    {
     "ename": "NameError",
     "evalue": "name 'FMapTrain' is not defined",
     "output_type": "error",
     "traceback": [
      "\u001b[0;31m---------------------------------------------------------------------------\u001b[0m",
      "\u001b[0;31mNameError\u001b[0m                                 Traceback (most recent call last)",
      "Input \u001b[0;32mIn [1]\u001b[0m, in \u001b[0;36m<cell line: 6>\u001b[0;34m()\u001b[0m\n\u001b[1;32m      4\u001b[0m \u001b[38;5;66;03m# F selection threshold in terms of percentiles of the empirical distribution\u001b[39;00m\n\u001b[1;32m      5\u001b[0m pth \u001b[38;5;241m=\u001b[39m \u001b[38;5;241m100\u001b[39m\n\u001b[0;32m----> 6\u001b[0m selvox \u001b[38;5;241m=\u001b[39m (\u001b[43mFMapTrain\u001b[49m \u001b[38;5;241m>\u001b[39m \u001b[38;5;241m1.2\u001b[39m)\n\u001b[1;32m      7\u001b[0m fmap \u001b[38;5;241m=\u001b[39m FMapTrain[selvox]\n\u001b[1;32m      8\u001b[0m BetasSEPTrain \u001b[38;5;241m=\u001b[39m BetasSEPTrain[:, selvox]\n",
      "\u001b[0;31mNameError\u001b[0m: name 'FMapTrain' is not defined"
     ]
    }
   ],
   "source": [
    "import numpy as np\n",
    "from sklearn.model_selection import KFold\n",
    "\n",
    "# F selection threshold in terms of percentiles of the empirical distribution\n",
    "pth = 100\n",
    "selvox = (FMapTrain > 1.2)\n",
    "fmap = FMapTrain[selvox]\n",
    "BetasSEPTrain = BetasSEPTrain[:, selvox]\n",
    "ntrials, nvox = BetasSEPTrain.shape\n",
    "\n",
    "# create gaussian dictionary\n",
    "tunsteps = 10\n",
    "freqstep = 1\n",
    "fwhm = np.linspace(25, 100, tunsteps)\n",
    "fwhm = np.sort(fwhm)[::-1]\n",
    "subsample = np.arange(0, len(ff), freqstep)\n",
    "mustep = np.diff(np.log2(ff[subsample]))\n",
    "sigmagrid = np.log(2) / (mustep[0] * fwhm / 2) ** 2\n",
    "octgrid = np.log(2) * fwhm * mustep[0]\n",
    "muarray_bins = np.log2(ff)\n",
    "muarray = np.log2(ff[subsample])\n",
    "\n",
    "# create gaussian prf dict\n",
    "W, prfMU, prfS, prfO, CM = get_gaussian_weightsZ_MM(muarray_bins, muarray, sigmagrid, octgrid)\n",
    "\n",
    "# cross validation for prf estimation\n",
    "kfold = 5\n",
    "nperm = 1000\n",
    "H0 = get_penaltybasedonRanks_MM(np.eye(W.shape[0]), [], [], nperm, W)\n",
    "cv = KFold(n_splits=kfold)\n",
    "for itcv, (train_index, test_index) in enumerate(cv.split(BetasSEPTrain)):\n",
    "    print(f\"Cross Val {itcv + 1}\")\n",
    "    Xtr, Xte = BetasSEPTrain[train_index], BetasSEPTrain[test_index]\n",
    "    Ftr, Fte = W[train_index], W[test_index]\n",
    "    cXtrFtr = np.corrcoef(Xtr, Ftr)\n",
    "    corrmax, selseed = np.max(cXtrFtr, axis=1)\n",
    "    cXteFte = np.corrcoef(Xte, Fte)\n",
    "    indlin = np.ravel_multi_index((np.arange(nvox), selseed), cXtrFtr.shape)\n"
   ]
  }
 ],
 "metadata": {
  "kernelspec": {
   "display_name": "Python 3 (ipykernel)",
   "language": "python",
   "name": "python3"
  },
  "language_info": {
   "codemirror_mode": {
    "name": "ipython",
    "version": 3
   },
   "file_extension": ".py",
   "mimetype": "text/x-python",
   "name": "python",
   "nbconvert_exporter": "python",
   "pygments_lexer": "ipython3",
   "version": "3.8.13"
  }
 },
 "nbformat": 4,
 "nbformat_minor": 5
}
