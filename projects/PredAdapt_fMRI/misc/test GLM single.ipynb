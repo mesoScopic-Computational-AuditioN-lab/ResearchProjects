{
 "cells": [
  {
   "cell_type": "markdown",
   "id": "7970b68f",
   "metadata": {},
   "source": [
    "### import modules"
   ]
  },
  {
   "cell_type": "code",
   "execution_count": 1,
   "id": "ee6594f8",
   "metadata": {},
   "outputs": [],
   "source": [
    "import pickle\n",
    "\n",
    "import numpy as np\n",
    "import pandas as pd\n",
    "import scipy\n",
    "import scipy.stats as stats\n",
    "import scipy.io as sio\n",
    "import matplotlib.pyplot as plt\n",
    "import nibabel as nib\n",
    "\n",
    "import bvbabel \n",
    "\n",
    "import os\n",
    "from os.path import join, exists, split\n",
    "import sys\n",
    "import time\n",
    "import urllib.request\n",
    "import copy\n",
    "import warnings\n",
    "from tqdm import tqdm\n",
    "from pprint import pprint\n",
    "warnings.filterwarnings('ignore')\n",
    "\n",
    "import glmsingle\n",
    "from glmsingle.glmsingle import GLM_single\n",
    "\n",
    "# note: the fracridge repository is also necessary to run this code\n",
    "# for example, you could do:\n",
    "#      git clone https://github.com/nrdg/fracridge.git\n",
    "\n"
   ]
  },
  {
   "cell_type": "markdown",
   "id": "91fc7ebd",
   "metadata": {},
   "source": [
    "Set functions to quickly make the design matrixes "
   ]
  },
  {
   "cell_type": "code",
   "execution_count": 2,
   "id": "b8f297cc",
   "metadata": {},
   "outputs": [],
   "source": [
    "def load_run_to_df(timing_files_dir, pp, currun):\n",
    "    \"\"\"load in mat file, parse and return dataframe\"\"\"\n",
    "\n",
    "    # load the matfile of timings for this run\n",
    "    mat = scipy.io.loadmat(join(timing_files_dir, str(pp), tonotopy_run_fn(currun)))\n",
    "\n",
    "    # create dataframe for all the pulses\n",
    "    df = pd.DataFrame({'pulse': mat['pulsez'][0,:],\n",
    "                       'timing': mat['pulsez'][1,:]})\n",
    "\n",
    "    # set conditions and timings temp df\n",
    "    temp_df = pd.DataFrame({'timing': mat['timingz'][0,:],\n",
    "                            'block' : mat['conditions'][0,:],\n",
    "                            'freq'  : mat['conditions'][1,:],\n",
    "                            'isgap' : mat['conditions'][2,:],\n",
    "                            'seqorder' : mat['conditions'][3,:],\n",
    "                            'trialblock' : mat['conditions'][4,:]})\n",
    "\n",
    "    # merge the two together\n",
    "    df = pd.merge(df, temp_df, how='left', on=['timing'])\n",
    "    return(df)\n",
    "\n",
    "\n",
    "def create_design_mat(df, ffs):\n",
    "    \"\"\"input dataframe and convert to onehot encoding in some desired order\"\"\"\n",
    "\n",
    "    # create empty matrix of correct size\n",
    "    zero_array = np.zeros([len(df),len(ffs)]) # create zeros array in shape of pulses X nr_freqs\n",
    "    design_mat = pd.DataFrame(zero_array, columns=ffs)    # create design matrix dataframe\n",
    "\n",
    "    # put in the 1 hot encoding\n",
    "    for frq in range(len(df['freq'])):\n",
    "        frq_val = df['freq'][frq]\n",
    "\n",
    "        # check if the value is nan\n",
    "        if not np.isnan(frq_val):\n",
    "            design_mat.at[frq, frq_val] = 1\n",
    "\n",
    "    return(design_mat.to_numpy())"
   ]
  },
  {
   "cell_type": "markdown",
   "id": "b2212252",
   "metadata": {},
   "source": [
    "Also, an implementation to read mask files in Python, this function can be removed in the feature since it will be added to bvbabel in the feature"
   ]
  },
  {
   "cell_type": "code",
   "execution_count": 3,
   "id": "181f7044",
   "metadata": {},
   "outputs": [],
   "source": [
    "\"\"\"Read, write, create Brainvoyager MSK file format.\"\"\"\n",
    "\n",
    "import struct\n",
    "import numpy as np\n",
    "\n",
    "# =============================================================================\n",
    "def read_msk(filename):\n",
    "    \"\"\"Read Brainvoyager MSK file.\n",
    "\n",
    "    Parameters\n",
    "    ----------\n",
    "    filename : string\n",
    "        Path to file.\n",
    "\n",
    "    Returns\n",
    "    -------\n",
    "    header : dictionary\n",
    "        Pre-data header.\n",
    "    data : 3D numpy.array\n",
    "        Image data.\n",
    "\n",
    "    \"\"\"\n",
    "    header = dict()\n",
    "    with open(filename, 'rb') as f:\n",
    "        \n",
    "        # Expected binary data: short int (2 bytes)\n",
    "        data, = struct.unpack('<h', f.read(2))\n",
    "        header[\"VTC resolution relative to VMR (1, 2, or 3)\"] = data\n",
    "        \n",
    "        # Expected binary data: short int (2 bytes)\n",
    "        data, = struct.unpack('<h', f.read(2))\n",
    "        header[\"XStart\"] = data\n",
    "        data, = struct.unpack('<h', f.read(2))\n",
    "        header[\"XEnd\"] = data\n",
    "        data, = struct.unpack('<h', f.read(2))\n",
    "        header[\"YStart\"] = data\n",
    "        data, = struct.unpack('<h', f.read(2))\n",
    "        header[\"YEnd\"] = data\n",
    "        data, = struct.unpack('<h', f.read(2))\n",
    "        header[\"ZStart\"] = data\n",
    "        data, = struct.unpack('<h', f.read(2))\n",
    "        header[\"ZEnd\"] = data\n",
    "\n",
    "        # Prepare dimensions of VTC data array\n",
    "        VTC_resolution = header[\"VTC resolution relative to VMR (1, 2, or 3)\"]\n",
    "        DimX = (header[\"XEnd\"] - header[\"XStart\"]) // VTC_resolution\n",
    "        DimY = (header[\"YEnd\"] - header[\"YStart\"]) // VTC_resolution\n",
    "        DimZ = (header[\"ZEnd\"] - header[\"ZStart\"]) // VTC_resolution\n",
    "        \n",
    "        # ---------------------------------------------------------------------\n",
    "        # Read MSK data\n",
    "        # ---------------------------------------------------------------------\n",
    "        \n",
    "        data_img = np.zeros(DimZ * DimY * DimX)\n",
    "        \n",
    "        for i in range(data_img.size):\n",
    "            data_img[i], = struct.unpack('<B', f.read(1))\n",
    "        \n",
    "        data_img = np.reshape(data_img, (DimZ, DimY, DimX))\n",
    "        data_img = np.transpose(data_img, (0, 2, 1))  # BV to Tal\n",
    "        data_img = data_img[::-1, ::-1, ::-1]  # Flip BV axes\n",
    "\n",
    "    return header, data_img\n",
    "\n",
    "\n",
    "# =============================================================================\n",
    "def write_msk(filename, header, data_img):\n",
    "    \"\"\"Protocol to write Brainvoyager MSK file.\n",
    "\n",
    "    Parameters\n",
    "    ----------\n",
    "    filename : string\n",
    "        Path to file.\n",
    "    header : dictionary\n",
    "        Pre-data header.\n",
    "    data_img : 3D numpy.array\n",
    "        Image data.\n",
    "\n",
    "    \"\"\"\n",
    "    with open(filename, 'wb') as f:\n",
    "\n",
    "        # Expected binary data: short int (2 bytes)\n",
    "        data = header[\"VTC resolution relative to VMR (1, 2, or 3)\"]\n",
    "        f.write(struct.pack('<h', data))\n",
    "\n",
    "        data = header[\"XStart\"]\n",
    "        f.write(struct.pack('<h', data))\n",
    "        data = header[\"XEnd\"]\n",
    "        f.write(struct.pack('<h', data))\n",
    "        data = header[\"YStart\"]\n",
    "        f.write(struct.pack('<h', data))\n",
    "        data = header[\"YEnd\"]\n",
    "        f.write(struct.pack('<h', data))\n",
    "        data = header[\"ZStart\"]\n",
    "        f.write(struct.pack('<h', data))\n",
    "        data = header[\"ZEnd\"]\n",
    "        f.write(struct.pack('<h', data))\n",
    "\n",
    "        # ---------------------------------------------------------------------\n",
    "        # Write MSK data\n",
    "        # ---------------------------------------------------------------------\n",
    "        data_img = data_img[::-1, ::-1, ::-1]  # Flip BV axes\n",
    "        data_img = np.transpose(data_img, (0, 2, 1))  # Tal to BV\n",
    "        data_img = np.reshape(data_img, data_img.size)\n",
    "\n",
    "        for i in range(data_img.size):\n",
    "            f.write(struct.pack('<B', int(data_img[i])))"
   ]
  },
  {
   "cell_type": "markdown",
   "id": "806d7398",
   "metadata": {},
   "source": [
    "### Settings\n",
    "first we set the directory structure from which we load"
   ]
  },
  {
   "cell_type": "code",
   "execution_count": 5,
   "id": "c2d30792",
   "metadata": {},
   "outputs": [],
   "source": [
    "# pp settings\n",
    "pp = 2\n",
    "\n",
    "# set home dir\n",
    "homedir = '/media/jorvhar/Data1/MRIData/PreProc/S0{}_SES1'.format(pp)\n",
    "foldername = 'glmsingle'\n",
    "\n",
    "# set save directory\n",
    "datadir = join(homedir,foldername,'data')\n",
    "os.makedirs(datadir,exist_ok=True) # create if doesnt exist\n",
    "\n",
    "# create directory for saving outputs\n",
    "outputdir = join(homedir,foldername,'outputs')\n",
    "os.makedirs(outputdir,exist_ok=True)\n",
    "\n",
    "# make directory for numpy vtc savings\n",
    "numpydir = join(homedir,foldername,'numpyvtc')\n",
    "os.makedirs(numpydir,exist_ok=True)\n",
    "\n",
    "# load mat files from directory\n",
    "timing_files_dir = '/media/jorvhar/Data1/MRIData/timing data/data'\n",
    "tonotopy_settings_fn = '{}_settings_tonotopy.mat'.format(pp)\n",
    "tonotopy_run_fn = lambda r : '{}-r{}-tonotopy.mat'.format(pp, r) \n",
    "\n",
    "# load settings mat\n",
    "settings_mat = scipy.io.loadmat(join(timing_files_dir, str(pp), tonotopy_settings_fn))"
   ]
  },
  {
   "cell_type": "markdown",
   "id": "1a0d1103",
   "metadata": {},
   "source": [
    "Also set the general settings, where possible taken from the settings mat file"
   ]
  },
  {
   "cell_type": "code",
   "execution_count": 7,
   "id": "ac731507",
   "metadata": {},
   "outputs": [],
   "source": [
    "# get settings from stimuli settings mat file\n",
    "stimdur = settings_mat['cfg']['stim_len'].any().item()   # ['TR']  ['stim_len']\n",
    "tr = settings_mat['cfg']['TR'].any().item()\n",
    "nconds = settings_mat['cfg']['num_freqs'].any().item() #same as nblocks\n",
    "ffs_oct = np.squeeze(settings_mat['cfg']['freq_array'].any())\n",
    "ffs = 2**ffs_oct\n",
    "nr_runs = 6\n",
    "    # stimdur = tr\n",
    "    \n",
    "# settings for file namings\n",
    "vtc_fn_run = lambda run : 'S0{}_SES1_run{}_FMR_SCSTBL_3DMCTS_THPGLMF7c_TOPUP.vtc'.format(pp, run)\n",
    "msk_fn = 'brainmask.msk'"
   ]
  },
  {
   "cell_type": "markdown",
   "id": "285b2360",
   "metadata": {},
   "source": [
    "## create a dataframe with coding information"
   ]
  },
  {
   "cell_type": "code",
   "execution_count": 8,
   "id": "1392136a",
   "metadata": {},
   "outputs": [],
   "source": [
    "# EITHER IMPLEMENT THE MASKING,\n",
    "# OR SET THE ADVANCED REGISTRATION SO THAT WE HAVE THE GREY MATTER - THIS WILL FREE A LOT OF SPACE"
   ]
  },
  {
   "cell_type": "code",
   "execution_count": 14,
   "id": "46449c9f",
   "metadata": {},
   "outputs": [
    {
     "ename": "NameError",
     "evalue": "name 'fullpath' is not defined",
     "output_type": "error",
     "traceback": [
      "\u001b[0;31m---------------------------------------------------------------------------\u001b[0m",
      "\u001b[0;31mNameError\u001b[0m                                 Traceback (most recent call last)",
      "Input \u001b[0;32mIn [14]\u001b[0m, in \u001b[0;36m<cell line: 3>\u001b[0;34m()\u001b[0m\n\u001b[1;32m      1\u001b[0m \u001b[38;5;28;01mimport\u001b[39;00m \u001b[38;5;21;01mvtc\u001b[39;00m\n\u001b[0;32m----> 3\u001b[0m _, img \u001b[38;5;241m=\u001b[39m vtc\u001b[38;5;241m.\u001b[39mread_vtc_msk(\u001b[43mfullpath\u001b[49m, mskimg)\n",
      "\u001b[0;31mNameError\u001b[0m: name 'fullpath' is not defined"
     ]
    }
   ],
   "source": [
    "import vtc\n",
    "\n",
    "_, img = vtc.read_vtc_msk(fullpath, mskimg)"
   ]
  },
  {
   "cell_type": "code",
   "execution_count": 21,
   "id": "dd90ddd6",
   "metadata": {},
   "outputs": [
    {
     "name": "stdout",
     "output_type": "stream",
     "text": [
      "loading /media/jorvhar/Data1/MRIData/PreProc/S02_SES1/S02_SES1_run1_FMR_SCSTBL_3DMCTS_THPGLMF7c_TOPUP.vtc\n",
      "done, cleaning up \n",
      "\n",
      "loading /media/jorvhar/Data1/MRIData/PreProc/S02_SES1/S02_SES1_run2_FMR_SCSTBL_3DMCTS_THPGLMF7c_TOPUP.vtc\n",
      "done, cleaning up \n",
      "\n",
      "loading /media/jorvhar/Data1/MRIData/PreProc/S02_SES1/S02_SES1_run3_FMR_SCSTBL_3DMCTS_THPGLMF7c_TOPUP.vtc\n",
      "done, cleaning up \n",
      "\n",
      "loading /media/jorvhar/Data1/MRIData/PreProc/S02_SES1/S02_SES1_run4_FMR_SCSTBL_3DMCTS_THPGLMF7c_TOPUP.vtc\n",
      "done, cleaning up \n",
      "\n",
      "loading /media/jorvhar/Data1/MRIData/PreProc/S02_SES1/S02_SES1_run5_FMR_SCSTBL_3DMCTS_THPGLMF7c_TOPUP.vtc\n",
      "done, cleaning up \n",
      "\n",
      "loading /media/jorvhar/Data1/MRIData/PreProc/S02_SES1/S02_SES1_run6_FMR_SCSTBL_3DMCTS_THPGLMF7c_TOPUP.vtc\n",
      "done, cleaning up \n",
      "\n",
      "\telapsed time:  00:01:57\n"
     ]
    }
   ],
   "source": [
    "# read mask\n",
    "_, mskimg = read_msk(join(homedir, msk_fn))\n",
    "\n",
    "# loop over runs and put all runs in dict\n",
    "dfs = {}\n",
    "data = []\n",
    "datahdr = {}\n",
    "design = []\n",
    "\n",
    "# get timings\n",
    "start_time = time.time()\n",
    "\n",
    "for currun in np.arange(1,nr_runs+1):\n",
    "    \n",
    "    if not exists(join(numpydir, '11run1_vtc.npy')):\n",
    "        # load vtc file\n",
    "        vtc_fn = join(homedir,vtc_fn_run(currun))\n",
    "        print(f'loading {vtc_fn}')\n",
    "        datahdr[currun], vtc_img = vtc.read_vtc_msk(vtc_fn, mskimg)\n",
    "        data.append(vtc_img) \n",
    "#         data.append(vtc_img[np.where(mskimg)]) ## - if we want to mask everything\n",
    "        print(f'done, cleaning up \\n')\n",
    "        del vtc_img\n",
    "    else:\n",
    "        # load vtcs from numpy pickle\n",
    "        data.append(np.load(join(numpydir, f'run{currun}_vtc.npy')))    \n",
    "        print(f'{numpydir} directory found, loading run{currun}_vtc.npy from memory')\n",
    "        # load data header from pickle\n",
    "        datahdr = pickle.load( open( join(numpydir, 'datahdr.p'), \"rb\" ) )\n",
    "\n",
    "    # put info and design in dataframe and array\n",
    "    dfs[currun] = load_run_to_df(timing_files_dir, pp, currun)\n",
    "    design.append(create_design_mat(dfs[currun], ffs_oct))\n",
    "    \n",
    "elapsed_time = time.time() - start_time\n",
    "print('\\telapsed time: ', f'{time.strftime(\"%H:%M:%S\", time.gmtime(elapsed_time))}')"
   ]
  },
  {
   "cell_type": "markdown",
   "id": "4ffa3740",
   "metadata": {},
   "source": [
    "Because `read_vtc` loops over the data sequentially it can be somewhat slow, so for now we loop over the runs and save the run vtcs as numpy.\n",
    "\n",
    "- with new function not needed anymore"
   ]
  },
  {
   "cell_type": "code",
   "execution_count": 9,
   "id": "43cf8f39",
   "metadata": {},
   "outputs": [],
   "source": [
    "# save the numpy arrays in the folder so that we can load them a lot faster then vtc read\n",
    "for currun in np.arange(1,nr_runs+1):\n",
    "    np.save(join(numpydir, f'run{currun}_vtc.npy'), data[currun-1])\n",
    "\n",
    "# also save the datahdr \n",
    "pickle.dump( datahdr, open( join(numpydir, 'datahdr.p'), 'wb') )"
   ]
  },
  {
   "cell_type": "code",
   "execution_count": 22,
   "id": "de878866",
   "metadata": {},
   "outputs": [
    {
     "data": {
      "image/png": "[encoded data removed]",
      "text/plain": [
       "<Figure size 720x720 with 1 Axes>"
      ]
     },
     "metadata": {
      "needs_background": "light"
     },
     "output_type": "display_data"
    }
   ],
   "source": [
    "# plot example design matrix from run 1\n",
    "plt.figure(figsize=(10,10))\n",
    "plt.imshow(design[2],aspect='auto',interpolation='none')\n",
    "plt.title('example design matrix from run 1',fontsize=16)\n",
    "plt.xlabel('conditions',fontsize=16)\n",
    "plt.ylabel('time (TR)',fontsize=16);"
   ]
  },
  {
   "cell_type": "code",
   "execution_count": 23,
   "id": "e94f02d2",
   "metadata": {},
   "outputs": [
    {
     "name": "stdout",
     "output_type": "stream",
     "text": [
      "Data has 6 runs\n",
      "\n",
      "There are 240 total blocks in runs 1-6\n",
      "\n",
      "Shape of data from each run is: (1000643, 278)\n",
      "\n",
      "There are 1000643.0 voxels in the included visual ROI\n"
     ]
    }
   ],
   "source": [
    "# print some relevant metadata\n",
    "print(f'Data has {len(data)} runs\\n')\n",
    "print(f'There are {nconds} total blocks in runs 1-{len(data)}\\n')\n",
    "print(f'Shape of data from each run is: {data[0].shape}\\n')\n",
    "print(f'There are {np.sum(mskimg)} voxels in the included visual ROI')"
   ]
  },
  {
   "cell_type": "markdown",
   "id": "90d713ec",
   "metadata": {},
   "source": [
    "### calculate twogamma hrf"
   ]
  },
  {
   "cell_type": "code",
   "execution_count": 131,
   "id": "792fb9a6",
   "metadata": {},
   "outputs": [],
   "source": [
    "import numpy as np\n",
    "from scipy.stats import gamma\n",
    "\n",
    "def gammapdf(x, a, scale):\n",
    "    return gamma.pdf(x, a, scale=scale)\n",
    "\n",
    "def hrf(shape, sfrq=1/16, pttp=5, nttp=15, pnr=6, ons=0, pdsp=1, ndsp=1, s=None, d=0, nt='area'):\n",
    "    # argument check\n",
    "    d = round(d) if 0 <= d <= 2 else 0\n",
    "    ndsp = 1 if ndsp <= 0 else ndsp\n",
    "    pdsp = 1 if pdsp <= 0 else pdsp\n",
    "    ons = 0 if ons < -5 or ons > 5 else ons\n",
    "    pnr = 6 if pnr < 1 else pnr\n",
    "    nttp = 15 if nttp < 1 or nttp > 30 else nttp\n",
    "    pttp = 5 if pttp < 1 or pttp > 30 else pttp\n",
    "    sfrq = 1/16 if sfrq > 5 else sfrq if sfrq >= 0.001 else 0.001\n",
    "\n",
    "    if s is None:\n",
    "        s = np.arange(0,(ons + 2 * (nttp + 1)) - ons,sfrq)\n",
    "\n",
    "    h = np.zeros((len(s), d + 1))\n",
    "    if shape == 'boynton':\n",
    "        h[:, 0] = gammapdf(s, pttp + 1, pdsp)\n",
    "        if d > 0:\n",
    "            h[:, 1] = h[:, 0] - gammapdf(s + 1, pttp + 1, pdsp)\n",
    "            hi = np.where(h[:, 1] != 0)\n",
    "            h[hi, 1] = h[hi, 1] - (np.linalg.pinv(h[hi, 0].T @ h[hi, 0]) @ h[hi, 0].T @ h[hi, 1]).T @ h[hi, 0].T\n",
    "            if d > 1:\n",
    "                h[:, 2] = h[:, 0] - gammapdf(s, pttp + 1, pdsp / 1.01)\n",
    "                hi = np.where(h[:, 2] != 0)\n",
    "                h[hi, 2] = h[hi, 2] - (np.linalg.pinv(h[hi, [0, 1]].T @ h[hi, [0, 1]]) @ h[hi, [0, 1]].T @ h[hi, 2]).T @ h[hi, [0, 1]].T\n",
    "    elif shape == 'twogamma':\n",
    "        h[:, 0] = gammapdf(s, pttp + 1, pdsp) - gammapdf(s, nttp + 1, ndsp) / pnr\n",
    "        if d > 0:\n",
    "            h[:, 1] = h[:, 0] - (gammapdf(s - 1, pttp + 1, pdsp) - gammapdf(s - 1, nttp + 1, ndsp) / pnr)\n",
    "            hi = np.where(h[:, 1] != 0)\n",
    "            h[hi, 1] = h[hi, 1] - (np.linalg.pinv(h[hi, 0].T @ h[hi, 0]) @ h[hi, 0].T @ h[hi, 1]).T @ h[hi, 0].T\n",
    "            if d > 1:\n",
    "                h[:, 2] = (h[:, 0] - (gammapdf(s, (pttp + 1) / 1.01, pdsp / 1.01) - gammapdf(s, nttp + 1, ndsp) / pnr)) / 0.01\n",
    "    return h, s"
   ]
  },
  {
   "cell_type": "code",
   "execution_count": 138,
   "id": "9c75d086",
   "metadata": {},
   "outputs": [
    {
     "data": {
      "text/plain": [
       "[<matplotlib.lines.Line2D at 0x7f70ddd9c430>]"
      ]
     },
     "execution_count": 138,
     "metadata": {},
     "output_type": "execute_result"
    },
    {
     "data": {
      "image/png": "[encoded data removed]",
      "text/plain": [
       "<Figure size 432x288 with 1 Axes>"
      ]
     },
     "metadata": {
      "needs_background": "light"
     },
     "output_type": "display_data"
    }
   ],
   "source": [
    "plt.plot(getcanonicalhrf(stimdur, tr))"
   ]
  },
  {
   "cell_type": "code",
   "execution_count": 121,
   "id": "5ad7a14c",
   "metadata": {},
   "outputs": [],
   "source": [
    "h, s = hrf('twogamma', sfrq=tr, pttp=4, ons=0, nttp=16, pnr=6, pdsp=1, ndsp=1)"
   ]
  },
  {
   "cell_type": "markdown",
   "id": "8cc8c7fc",
   "metadata": {},
   "source": [
    "### GLM-Single settings\n",
    "then we can set the glmsingle options, note that the options in `glmsingle_obj.params` are all changeable parameters (can play around with pcR2cutoff etc if output seems off)"
   ]
  },
  {
   "cell_type": "code",
   "execution_count": null,
   "id": "56dee3ec",
   "metadata": {},
   "outputs": [],
   "source": [
    "opt = dict()\n",
    "\n",
    "# set important fields for completeness (but these would be enabled by default)\n",
    "opt['wantlibrary'] = 0     # setting for using a canonical HRF\n",
    "opt['wantglmdenoise'] = 1\n",
    "opt['wantfracridge'] = 1\n",
    "\n",
    "# for the purpose of this example we will keep the relevant outputs in memory\n",
    "# and also save them to the disk\n",
    "opt['wantfileoutputs'] = [1,1,1,1]\n",
    "opt['wantmemoryoutputs'] = [0,0,0,1]\n",
    "opt['chunklen'] = 5000\n",
    "#opt['wanthdf5'] = True\n",
    "\n",
    "# running python GLMsingle involves creating a GLM_single object\n",
    "# and then running the procedure using the .fit() routine\n",
    "glmsingle_obj = GLM_single(opt)\n",
    "\n",
    "# visualize all the hyperparameters\n",
    "pprint(glmsingle_obj.params)\n",
    "\n",
    "#<data> - can be [x y z , t] or [x , t] -- for masked data\n"
   ]
  },
  {
   "cell_type": "code",
   "execution_count": null,
   "id": "75a0d1da",
   "metadata": {},
   "outputs": [],
   "source": [
    "#          <xvalscheme> (optional) is a list of lists or list of run indices,\n",
    "#          indicating the cross-validation scheme. For example, if we have 8\n",
    "#          runs, we could use [[1, 2], [3, 4], [5, 6], [7, 8]] which indicates\n",
    "#          to do 4 folds of cross-validation, first holding out the 1st and 2nd\n",
    "#          runs, then the 3rd and 4th runs, etc.\n",
    "#          Default: [[1], [2], [3], ... [n]] where n is the number of runs."
   ]
  },
  {
   "cell_type": "code",
   "execution_count": null,
   "id": "e08601d7",
   "metadata": {},
   "outputs": [],
   "source": [
    "# this example saves output files to the folder  \"example2outputs/GLMsingle\"\n",
    "# if these outputs don't already exist, we will perform the time-consuming call to GLMsingle;\n",
    "# otherwise, we will just load from disk.\n",
    "\n",
    "start_time = time.time()\n",
    "\n",
    "if not exists(join(outputdir,'TYPEA_ONOFF.npy')):\n",
    "\n",
    "    print(f'running GLMsingle...')\n",
    "    \n",
    "    # run GLMsingle\n",
    "    results_glmsingle = glmsingle_obj.fit(\n",
    "       design,\n",
    "       data,\n",
    "       stimdur,\n",
    "       tr,\n",
    "       outputdir=outputdir)\n",
    "    \n",
    "    # we assign outputs of GLMsingle to the \"results_glmsingle\" variable.\n",
    "    # note that results_glmsingle['typea'] contains GLM estimates from an ONOFF model,\n",
    "    # where all images are treated as the same condition. these estimates\n",
    "    # could be potentially used to find cortical areas that respond to\n",
    "    # visual stimuli. we want to compare beta weights between conditions\n",
    "    # therefore we are not going to include the ONOFF betas in any analyses of \n",
    "    # voxel reliability\n",
    "    \n",
    "else:\n",
    "    print(f'loading existing GLMsingle outputs from directory:\\n\\t{outputdir}')\n",
    "    \n",
    "    # load existing file outputs if they exist\n",
    "    results_glmsingle = dict()\n",
    "    results_glmsingle['typea'] = np.load(join(outputdir,'TYPEA_ONOFF.npy'),allow_pickle=True).item()\n",
    "    results_glmsingle['typeb'] = np.load(join(outputdir,'TYPEB_FITHRF.npy'),allow_pickle=True).item()\n",
    "    results_glmsingle['typec'] = np.load(join(outputdir,'TYPEC_FITHRF_GLMDENOISE.npy'),allow_pickle=True).item()\n",
    "    results_glmsingle['typed'] = np.load(join(outputdir,'TYPED_FITHRF_GLMDENOISE_RR.npy'),allow_pickle=True).item()\n",
    "\n",
    "elapsed_time = time.time() - start_time\n",
    "\n",
    "print(\n",
    "    '\\telapsed time: ',\n",
    "    f'{time.strftime(\"%H:%M:%S\", time.gmtime(elapsed_time))}'\n",
    ")"
   ]
  },
  {
   "cell_type": "code",
   "execution_count": null,
   "id": "e0856435",
   "metadata": {},
   "outputs": [],
   "source": [
    "## OUTPUTS\n",
    "\n",
    "# the outputs of GLMsingle are formally documented in its\n",
    "# header. here, we highlight a few of the more important outputs:\n",
    "\n",
    "# R2 -> is model accuracy expressed in terms of R^2 (percentage).\n",
    "\n",
    "# betasmd -> is the full set of single-trial beta weights (X x Y x Z x\n",
    "# TRIALS). beta weights are arranged in chronological order.\n",
    "\n",
    "# HRFindex -> is the 1-index of the best fit HRF. HRFs can be recovered\n",
    "# with getcanonicalHRFlibrary(stimdur,tr)\n",
    "\n",
    "# FRACvalue -> is the fractional ridge regression regularization level\n",
    "# chosen for each voxel. values closer to 1 mean less regularization."
   ]
  },
  {
   "cell_type": "markdown",
   "id": "a635c3a2",
   "metadata": {},
   "source": [
    "### Plotting GLM-Single outputs"
   ]
  },
  {
   "cell_type": "code",
   "execution_count": null,
   "id": "52c303fe",
   "metadata": {},
   "outputs": [],
   "source": [
    "# we are going to plot several outputs from the FIT_HRF_GLMdenoise_RR GLM,\n",
    "# which contains the full set of GLMsingle optimizations.\n",
    "\n",
    "# we will plot betas, R2, optimal HRF indices, and the voxel frac values\n",
    "plot_fields = ['betasmd','R2','HRFindex','FRACvalue']\n",
    "colormaps = ['RdBu_r','hot','jet','copper']\n",
    "clims = [[-5,5],[0,85],[0,20],[0,1]]\n",
    "\n",
    "plt.figure(figsize=(12,8))\n",
    "\n",
    "for i in range(len(plot_fields)):\n",
    "    \n",
    "    plt.subplot(2,2,i+1)\n",
    "    \n",
    "    if i == 0:\n",
    "        # when plotting betas, for simplicity just average across all image presentations\n",
    "        # this will yield a summary of whether voxels tend to increase or decrease their \n",
    "        # activity in response to the experimental stimuli (similar to outputs from \n",
    "        # an ONOFF GLM)\n",
    "        plot_data = np.nanmean(np.squeeze(results_glmsingle['typed'][plot_fields[i]]),2)\n",
    "        titlestr = 'average GLM betas (750 stimuli)'\n",
    "    \n",
    "    else:\n",
    "        # plot all other voxel-wise metrics as outputted from GLMsingle\n",
    "        plot_data = np.squeeze(results_glmsingle['typed'][plot_fields[i]].reshape(xyz))\n",
    "        titlestr = plot_fields[i]\n",
    "    \n",
    "    plt.imshow(plot_data,cmap=colormaps[i],clim=clims[i])\n",
    "    plt.colorbar()\n",
    "    plt.title(titlestr)\n",
    "    plt.axis(False)\n",
    "\n"
   ]
  },
  {
   "cell_type": "markdown",
   "id": "f6266038",
   "metadata": {},
   "source": [
    "## Comparing GLM-Single to baseline\n",
    "as a quick check to see if everything has gone as expected we want to compare to a baseline GLM approach"
   ]
  },
  {
   "cell_type": "code",
   "execution_count": null,
   "id": "d96e49f7",
   "metadata": {},
   "outputs": [],
   "source": [
    "# output directory for baseline GLM\n",
    "outputdir_baseline = join(outputdir,'GLMbaseline')\n",
    "\n",
    "# we will run this baseline GLM by changing the default settings in GLMsingle \n",
    "# contained within the \"opt\" structure.\n",
    "opt = dict() \n",
    "\n",
    "# turn off optimizations \n",
    "opt['wantlibrary'] = 0 # switch off HRF fitting\n",
    "opt['wantglmdenoise'] = 0 # switch off GLMdenoise\n",
    "opt['wantfracridge'] = 0 # switch off ridge regression\n",
    "\n",
    "\n",
    "# for the purpose of this example we will keep the relevant outputs in memory\n",
    "# and also save them to the disk...\n",
    "# the first two indices are the ON-OFF GLM and the baseline single-trial GLM. \n",
    "# no need to save the third (+ GLMdenoise) and fourth (+ fracridge) outputs\n",
    "# since they will not even be computed\n",
    "opt['wantmemoryoutputs'] = [1,1,0,0] \n",
    "opt['wantfileoutputs'] = [1,1,0,0]\n",
    "\n",
    "# running python GLMsingle involves creating a GLM_single object\n",
    "# and then running the procedure using the .fit() routine\n",
    "glmbaseline_obj = GLM_single(opt)\n",
    "\n",
    "# visualize the hyperparameters, including the modified baseline opts\n",
    "pprint(glmbaseline_obj.params)\n",
    "\n",
    "\n",
    "# tic\n",
    "start_time = time.time()\n",
    "\n",
    "# if these outputs don't already exist, we will perform the call to\n",
    "# GLMsingle; otherwise, we will just load from disk.\n",
    "if not exists(outputdir_baseline):\n",
    "    \n",
    "    print(f'running GLMsingle...')\n",
    "\n",
    "    # run GLMsingle, fitting the baseline GLM\n",
    "    results_assumehrf = glmbaseline_obj.fit(\n",
    "       design,\n",
    "       data,\n",
    "       stimdur,\n",
    "       tr,\n",
    "       outputdir=outputdir_baseline)\n",
    "    \n",
    "else:\n",
    "    \n",
    "    print(f'loading existing GLMsingle outputs from directory:\\n\\t{outputdir_glmsingle}')\n",
    "    \n",
    "    results_assumehrf = dict()\n",
    "    results_assumehrf['typea'] = np.load(join(outputdir_baseline,'TYPEA_ONOFF.npy'),allow_pickle=True).item()\n",
    "    results_assumehrf['typeb'] = np.load(join(outputdir_baseline,'TYPEB_FITHRF.npy'),allow_pickle=True).item()\n",
    "    \n",
    "    # note that even though we are loading TYPEB_FITHRF betas, HRF fitting\n",
    "    # has been turned off and this struct field will thus contain the\n",
    "    # outputs of a GLM fit using the canonical HRF.\n",
    "    \n",
    "elapsed_time = time.time() - start_time\n",
    "print(\n",
    "    '\\telapsed time: ',\n",
    "    f'{time.strftime(\"%H:%M:%S\", time.gmtime(elapsed_time))}'\n",
    ")\n",
    "\n"
   ]
  },
  {
   "cell_type": "code",
   "execution_count": null,
   "id": "4ee55309",
   "metadata": {},
   "outputs": [],
   "source": []
  },
  {
   "cell_type": "code",
   "execution_count": null,
   "id": "3b8b1e33",
   "metadata": {},
   "outputs": [],
   "source": [
    "\n",
    "\n",
    "# create dictionary containing the GLM betas from the four different models we will compare.\n",
    "# note that the \"assume hrf\" betas come from the \"typeb\" field of our baseline GLM\n",
    "# (with HRF fitting turned off), and that the \"fit hrf\" betas also come from \n",
    "# the \"typeb\" field of the GLM that ran with all default GLMsingle routines\n",
    "# enabled\n",
    "\n",
    "models = dict()\n",
    "models['assumehrf'] = results_assumehrf['typeb']['betasmd'].reshape(xyz + (750,))\n",
    "models['fithrf'] = results_glmsingle['typeb']['betasmd']\n",
    "models['fithrf_glmdenoise'] = results_glmsingle['typec']['betasmd']\n",
    "models['fithrf_glmdenoise_rr'] = results_glmsingle['typed']['betasmd']\n",
    "\n"
   ]
  },
  {
   "cell_type": "code",
   "execution_count": null,
   "id": "4835c051",
   "metadata": {},
   "outputs": [],
   "source": []
  },
  {
   "cell_type": "code",
   "execution_count": null,
   "id": "e09e3a00",
   "metadata": {},
   "outputs": [],
   "source": []
  },
  {
   "cell_type": "code",
   "execution_count": null,
   "id": "1b24a019",
   "metadata": {},
   "outputs": [],
   "source": []
  },
  {
   "cell_type": "code",
   "execution_count": null,
   "id": "815f03c8",
   "metadata": {},
   "outputs": [],
   "source": []
  },
  {
   "cell_type": "code",
   "execution_count": null,
   "id": "0d0d40cc",
   "metadata": {},
   "outputs": [],
   "source": [
    "empty_glmsinglebeta = np.zeros([data[0].shape[0], data[0].shape[1], data[0].shape[2], 1440])\n",
    "empty_glmsinglebeta[np.where(mskimg)] = results_glmsingle['typed'][plot_fields[0]]\n"
   ]
  },
  {
   "cell_type": "code",
   "execution_count": null,
   "id": "8fa8bb9a",
   "metadata": {},
   "outputs": [],
   "source": [
    "empty_glmsinglebeta.shape"
   ]
  },
  {
   "cell_type": "code",
   "execution_count": null,
   "id": "d445adb3",
   "metadata": {},
   "outputs": [],
   "source": [
    "plot_data = np.nanmean(np.squeeze(empty_glmsinglebeta),3).astype(float)\n"
   ]
  },
  {
   "cell_type": "code",
   "execution_count": null,
   "id": "475fdb0e",
   "metadata": {},
   "outputs": [],
   "source": [
    "# the outputs of GLMsingle are formally documented in its\n",
    "# header. here, we highlight a few of the more important outputs:\n",
    "\n",
    "# R2 -> is model accuracy expressed in terms of R^2 (percentage).\n",
    "\n",
    "# betasmd -> is the full set of single-trial beta weights (X x Y x Z x\n",
    "# TRIALS). beta weights are arranged in chronological order.\n",
    "\n",
    "# HRFindex -> is the 1-index of the best fit HRF. HRFs can be recovered\n",
    "# with getcanonicalHRFlibrary(stimdur,tr)\n",
    "\n",
    "# FRACvalue -> is the fractional ridge regression regularization level\n",
    "# chosen for each voxel. values closer to 1 mean less regularization.\n",
    "#Plot a slice of brain showing GLMsingle outputs\n",
    "# we are going to plot several outputs from the FIT_HRF_GLMdenoise_RR GLM,\n",
    "# which contains the full set of GLMsingle optimizations.\n",
    "\n",
    "# we will plot betas, R2, optimal HRF indices, and the voxel frac values\n",
    "plot_fields = ['betasmd','R2','HRFindex','FRACvalue']\n",
    "colormaps = ['RdBu_r','hot','jet','copper']\n",
    "clims = [[-5,5],[0,85],[0,20],[0,1]]\n",
    "\n",
    "meanvol = np.squeeze(np.mean(empty_betas.reshape(vtc_img.shape),3))\n",
    "brainmask = meanvol > 275\n",
    "\n",
    "plt.figure(figsize=(12,8))\n",
    "\n",
    "for i in range(len(plot_fields)):\n",
    "    \n",
    "    plt.subplot(2,2,i+1)\n",
    "    \n",
    "    if i == 0:\n",
    "        # when plotting betas, for simplicity just average across all image presentations\n",
    "        # this will yield a summary of whether voxels tend to increase or decrease their \n",
    "        # activity in response to the experimental stimuli (similar to outputs from \n",
    "        # an ONOFF GLM)\n",
    "        plot_data = np.nanmean(np.squeeze(empty_glmsinglebeta),3).astype(float)\n",
    "        titlestr = 'average GLM betas (localizer runs 1-4)'\n",
    "    \n",
    "    else:\n",
    "        # plot all other voxel-wise metrics as outputted from GLMsingle\n",
    "        plot_data = np.squeeze(results_glmsingle['typed'][plot_fields[i]].reshape(xyz)).astype(float)\n",
    "        titlestr = plot_fields[i]\n",
    "    \n",
    "    plot_data[~brainmask] = np.nan # remove values outside the brain for visualization purposes\n",
    "    plt.imshow(plot_data[:,5:-5,20],cmap=colormaps[i],clim=clims[i])\n",
    "    plt.colorbar()\n",
    "    plt.title(titlestr)\n",
    "    plt.axis(False)"
   ]
  },
  {
   "cell_type": "code",
   "execution_count": null,
   "id": "0babd915",
   "metadata": {},
   "outputs": [],
   "source": [
    "print(123)\n"
   ]
  },
  {
   "cell_type": "code",
   "execution_count": null,
   "id": "b101f6bf",
   "metadata": {},
   "outputs": [],
   "source": []
  },
  {
   "cell_type": "code",
   "execution_count": null,
   "id": "6c5cbeef",
   "metadata": {},
   "outputs": [],
   "source": [
    "### PLAYGROUND TO INDEX MASK IMAGES\n",
    "\n",
    "# mask the vtcimge with the mask\n",
    "masked_vtc = vtcimg[np.where(mskimg)]\n",
    "\n",
    "# we can then reimport the image back by doing\n",
    "empty_betas = np.zeros(vtcimg.shape)\n",
    "empty_betas[np.where(mskimg)] = masked_vtc\n",
    "\n",
    "# to check\n",
    "plt.imshow(empty_betas[:,:,10,40])"
   ]
  }
 ],
 "metadata": {
  "kernelspec": {
   "display_name": "Python 3 (ipykernel)",
   "language": "python",
   "name": "python3"
  },
  "language_info": {
   "codemirror_mode": {
    "name": "ipython",
    "version": 3
   },
   "file_extension": ".py",
   "mimetype": "text/x-python",
   "name": "python",
   "nbconvert_exporter": "python",
   "pygments_lexer": "ipython3",
   "version": "3.8.13"
  }
 },
 "nbformat": 4,
 "nbformat_minor": 5
}
