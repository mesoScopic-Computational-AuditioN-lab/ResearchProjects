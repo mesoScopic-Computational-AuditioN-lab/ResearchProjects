{
 "cells": [
  {
   "cell_type": "code",
   "execution_count": 1,
   "id": "56387040",
   "metadata": {},
   "outputs": [
    {
     "ename": "ModuleNotFoundError",
     "evalue": "No module named 'matlab'",
     "output_type": "error",
     "traceback": [
      "\u001b[0;31m---------------------------------------------------------------------------\u001b[0m",
      "\u001b[0;31mModuleNotFoundError\u001b[0m                       Traceback (most recent call last)",
      "Cell \u001b[0;32mIn[1], line 1\u001b[0m\n\u001b[0;32m----> 1\u001b[0m \u001b[38;5;28;01mimport\u001b[39;00m \u001b[38;5;21;01mmatlab\u001b[39;00m\u001b[38;5;21;01m.\u001b[39;00m\u001b[38;5;21;01mengine\u001b[39;00m\n\u001b[1;32m      2\u001b[0m eng \u001b[38;5;241m=\u001b[39m matlab\u001b[38;5;241m.\u001b[39mengine\u001b[38;5;241m.\u001b[39mstart_matlab()\n\u001b[1;32m      4\u001b[0m x \u001b[38;5;241m=\u001b[39m np\u001b[38;5;241m.\u001b[39mrandom\u001b[38;5;241m.\u001b[39mrand(\u001b[38;5;241m100\u001b[39m)\n",
      "\u001b[0;31mModuleNotFoundError\u001b[0m: No module named 'matlab'"
     ]
    }
   ],
   "source": [
    "import matlab.engine\n",
    "eng = matlab.engine.start_matlab()\n",
    "\n",
    "x = np.random.rand(100)\n",
    "\n",
    "eng.run_DREX_model(x)"
   ]
  },
  {
   "cell_type": "code",
   "execution_count": 5,
   "id": "f9779f73",
   "metadata": {},
   "outputs": [
    {
     "data": {
      "text/plain": [
       "array([0.00478413, 0.42452337, 0.12921161, 0.27222855, 0.04305512,\n",
       "       0.78012722, 0.91262536, 0.07858242, 0.85397087, 0.87689973,\n",
       "       0.19397764, 0.72882145, 0.47973913, 0.49720029, 0.88281238,\n",
       "       0.82226376, 0.82635658, 0.52996645, 0.27720538, 0.04055978,\n",
       "       0.93627628, 0.67884695, 0.27331376, 0.23527239, 0.41761304,\n",
       "       0.53641502, 0.36270446, 0.22152343, 0.73723212, 0.13721038,\n",
       "       0.58546591, 0.91744767, 0.41716381, 0.89869756, 0.46775217,\n",
       "       0.05827773, 0.62713942, 0.96875316, 0.71242433, 0.72201425,\n",
       "       0.24674968, 0.01761665, 0.57862777, 0.04419293, 0.27194071,\n",
       "       0.93878744, 0.94807925, 0.08518509, 0.18586599, 0.36522481,\n",
       "       0.0778299 , 0.69234364, 0.9714414 , 0.36191533, 0.33203138,\n",
       "       0.54331726, 0.52306224, 0.41808442, 0.49858423, 0.25295494,\n",
       "       0.91347487, 0.76814941, 0.74571685, 0.98681322, 0.22416765,\n",
       "       0.04484609, 0.95252348, 0.91768983, 0.22029625, 0.52589522,\n",
       "       0.3487354 , 0.55867086, 0.88537935, 0.84412703, 0.38769704,\n",
       "       0.48629851, 0.82229873, 0.37635267, 0.4146335 , 0.62977701,\n",
       "       0.27256173, 0.50582829, 0.42888639, 0.84904322, 0.21331832,\n",
       "       0.40952133, 0.36261839, 0.33889194, 0.85977493, 0.05223395,\n",
       "       0.56369756, 0.8122001 , 0.6064828 , 0.96117351, 0.95051803,\n",
       "       0.39127965, 0.65630761, 0.92154371, 0.78654227, 0.91634412])"
      ]
     },
     "execution_count": 5,
     "metadata": {},
     "output_type": "execute_result"
    }
   ],
   "source": [
    "eng."
   ]
  },
  {
   "cell_type": "code",
   "execution_count": 2,
   "id": "c101865f",
   "metadata": {},
   "outputs": [
    {
     "name": "stdout",
     "output_type": "stream",
     "text": [
      "Collecting matlabengine\n",
      "  Using cached matlabengine-9.14.3.tar.gz (18 kB)\n",
      "  Installing build dependencies ... \u001b[?25ldone\n",
      "\u001b[?25h  Getting requirements to build wheel ... \u001b[?25ldone\n",
      "\u001b[?25h  Preparing metadata (pyproject.toml) ... \u001b[?25ldone\n",
      "\u001b[?25hBuilding wheels for collected packages: matlabengine\n",
      "  Building wheel for matlabengine (pyproject.toml) ... \u001b[?25lerror\n",
      "  \u001b[1;31merror\u001b[0m: \u001b[1msubprocess-exited-with-error\u001b[0m\n",
      "  \n",
      "  \u001b[31m×\u001b[0m \u001b[32mBuilding wheel for matlabengine \u001b[0m\u001b[1;32m(\u001b[0m\u001b[32mpyproject.toml\u001b[0m\u001b[1;32m)\u001b[0m did not run successfully.\n",
      "  \u001b[31m│\u001b[0m exit code: \u001b[1;36m1\u001b[0m\n",
      "  \u001b[31m╰─>\u001b[0m \u001b[31m[49 lines of output]\u001b[0m\n",
      "  \u001b[31m   \u001b[0m running bdist_wheel\n",
      "  \u001b[31m   \u001b[0m running build\n",
      "  \u001b[31m   \u001b[0m running build_py\n",
      "  \u001b[31m   \u001b[0m _create_path_list returned: ['/opt/R/4.1.0/lib64/R/lib', '/opt/gcc/7.2.0/lib64', '/opt/cluster/lib', '/opt/cluster/external/p7zip-16.02/lib/p7zip']\n",
      "  \u001b[31m   \u001b[0m search_path_for_directory_unix returned:\n",
      "  \u001b[31m   \u001b[0m Traceback (most recent call last):\n",
      "  \u001b[31m   \u001b[0m   File \"/project/3018063.01/repos/conda_env/predlis/lib/python3.8/site-packages/pip/_vendor/pyproject_hooks/_in_process/_in_process.py\", line 353, in <module>\n",
      "  \u001b[31m   \u001b[0m     main()\n",
      "  \u001b[31m   \u001b[0m   File \"/project/3018063.01/repos/conda_env/predlis/lib/python3.8/site-packages/pip/_vendor/pyproject_hooks/_in_process/_in_process.py\", line 335, in main\n",
      "  \u001b[31m   \u001b[0m     json_out['return_val'] = hook(**hook_input['kwargs'])\n",
      "  \u001b[31m   \u001b[0m   File \"/project/3018063.01/repos/conda_env/predlis/lib/python3.8/site-packages/pip/_vendor/pyproject_hooks/_in_process/_in_process.py\", line 251, in build_wheel\n",
      "  \u001b[31m   \u001b[0m     return _build_backend().build_wheel(wheel_directory, config_settings,\n",
      "  \u001b[31m   \u001b[0m   File \"/scratch/jorvhar/49990953.dccn-l029.dccn.nl/pip-build-env-_e0jlv8e/overlay/lib/python3.8/site-packages/setuptools/build_meta.py\", line 434, in build_wheel\n",
      "  \u001b[31m   \u001b[0m     return self._build_with_temp_dir(\n",
      "  \u001b[31m   \u001b[0m   File \"/scratch/jorvhar/49990953.dccn-l029.dccn.nl/pip-build-env-_e0jlv8e/overlay/lib/python3.8/site-packages/setuptools/build_meta.py\", line 419, in _build_with_temp_dir\n",
      "  \u001b[31m   \u001b[0m     self.run_setup()\n",
      "  \u001b[31m   \u001b[0m   File \"/scratch/jorvhar/49990953.dccn-l029.dccn.nl/pip-build-env-_e0jlv8e/overlay/lib/python3.8/site-packages/setuptools/build_meta.py\", line 341, in run_setup\n",
      "  \u001b[31m   \u001b[0m     exec(code, locals())\n",
      "  \u001b[31m   \u001b[0m   File \"<string>\", line 414, in <module>\n",
      "  \u001b[31m   \u001b[0m   File \"/scratch/jorvhar/49990953.dccn-l029.dccn.nl/pip-build-env-_e0jlv8e/overlay/lib/python3.8/site-packages/setuptools/__init__.py\", line 103, in setup\n",
      "  \u001b[31m   \u001b[0m     return distutils.core.setup(**attrs)\n",
      "  \u001b[31m   \u001b[0m   File \"/scratch/jorvhar/49990953.dccn-l029.dccn.nl/pip-build-env-_e0jlv8e/overlay/lib/python3.8/site-packages/setuptools/_distutils/core.py\", line 185, in setup\n",
      "  \u001b[31m   \u001b[0m     return run_commands(dist)\n",
      "  \u001b[31m   \u001b[0m   File \"/scratch/jorvhar/49990953.dccn-l029.dccn.nl/pip-build-env-_e0jlv8e/overlay/lib/python3.8/site-packages/setuptools/_distutils/core.py\", line 201, in run_commands\n",
      "  \u001b[31m   \u001b[0m     dist.run_commands()\n",
      "  \u001b[31m   \u001b[0m   File \"/scratch/jorvhar/49990953.dccn-l029.dccn.nl/pip-build-env-_e0jlv8e/overlay/lib/python3.8/site-packages/setuptools/_distutils/dist.py\", line 969, in run_commands\n",
      "  \u001b[31m   \u001b[0m     self.run_command(cmd)\n",
      "  \u001b[31m   \u001b[0m   File \"/scratch/jorvhar/49990953.dccn-l029.dccn.nl/pip-build-env-_e0jlv8e/overlay/lib/python3.8/site-packages/setuptools/dist.py\", line 989, in run_command\n",
      "  \u001b[31m   \u001b[0m     super().run_command(command)\n",
      "  \u001b[31m   \u001b[0m   File \"/scratch/jorvhar/49990953.dccn-l029.dccn.nl/pip-build-env-_e0jlv8e/overlay/lib/python3.8/site-packages/setuptools/_distutils/dist.py\", line 988, in run_command\n",
      "  \u001b[31m   \u001b[0m     cmd_obj.run()\n",
      "  \u001b[31m   \u001b[0m   File \"/scratch/jorvhar/49990953.dccn-l029.dccn.nl/pip-build-env-_e0jlv8e/overlay/lib/python3.8/site-packages/wheel/bdist_wheel.py\", line 364, in run\n",
      "  \u001b[31m   \u001b[0m     self.run_command(\"build\")\n",
      "  \u001b[31m   \u001b[0m   File \"/scratch/jorvhar/49990953.dccn-l029.dccn.nl/pip-build-env-_e0jlv8e/overlay/lib/python3.8/site-packages/setuptools/_distutils/cmd.py\", line 318, in run_command\n",
      "  \u001b[31m   \u001b[0m     self.distribution.run_command(command)\n",
      "  \u001b[31m   \u001b[0m   File \"/scratch/jorvhar/49990953.dccn-l029.dccn.nl/pip-build-env-_e0jlv8e/overlay/lib/python3.8/site-packages/setuptools/dist.py\", line 989, in run_command\n",
      "  \u001b[31m   \u001b[0m     super().run_command(command)\n",
      "  \u001b[31m   \u001b[0m   File \"/scratch/jorvhar/49990953.dccn-l029.dccn.nl/pip-build-env-_e0jlv8e/overlay/lib/python3.8/site-packages/setuptools/_distutils/dist.py\", line 988, in run_command\n",
      "  \u001b[31m   \u001b[0m     cmd_obj.run()\n",
      "  \u001b[31m   \u001b[0m   File \"/scratch/jorvhar/49990953.dccn-l029.dccn.nl/pip-build-env-_e0jlv8e/overlay/lib/python3.8/site-packages/setuptools/_distutils/command/build.py\", line 131, in run\n",
      "  \u001b[31m   \u001b[0m     self.run_command(cmd_name)\n",
      "  \u001b[31m   \u001b[0m   File \"/scratch/jorvhar/49990953.dccn-l029.dccn.nl/pip-build-env-_e0jlv8e/overlay/lib/python3.8/site-packages/setuptools/_distutils/cmd.py\", line 318, in run_command\n",
      "  \u001b[31m   \u001b[0m     self.distribution.run_command(command)\n",
      "  \u001b[31m   \u001b[0m   File \"/scratch/jorvhar/49990953.dccn-l029.dccn.nl/pip-build-env-_e0jlv8e/overlay/lib/python3.8/site-packages/setuptools/dist.py\", line 989, in run_command\n",
      "  \u001b[31m   \u001b[0m     super().run_command(command)\n",
      "  \u001b[31m   \u001b[0m   File \"/scratch/jorvhar/49990953.dccn-l029.dccn.nl/pip-build-env-_e0jlv8e/overlay/lib/python3.8/site-packages/setuptools/_distutils/dist.py\", line 988, in run_command\n",
      "  \u001b[31m   \u001b[0m     cmd_obj.run()\n",
      "  \u001b[31m   \u001b[0m   File \"<string>\", line 404, in run\n",
      "  \u001b[31m   \u001b[0m RuntimeError: MATLAB R2023a installation not found. Install to default location, or add <matlabroot>/bin/glnxa64 to LD_LIBRARY_PATH, where <matlabroot> is the root of a MATLAB R2023a installation.\n",
      "  \u001b[31m   \u001b[0m \u001b[31m[end of output]\u001b[0m\n",
      "  \n",
      "  \u001b[1;35mnote\u001b[0m: This error originates from a subprocess, and is likely not a problem with pip.\n",
      "\u001b[31m  ERROR: Failed building wheel for matlabengine\u001b[0m\u001b[31m\n",
      "\u001b[0m\u001b[?25hFailed to build matlabengine\n",
      "\u001b[31mERROR: Could not build wheels for matlabengine, which is required to install pyproject.toml-based projects\u001b[0m\u001b[31m\n",
      "\u001b[0m"
     ]
    }
   ],
   "source": [
    "!pip install matlabengine"
   ]
  },
  {
   "cell_type": "code",
   "execution_count": null,
   "id": "a12bc0ac",
   "metadata": {},
   "outputs": [],
   "source": []
  }
 ],
 "metadata": {
  "kernelspec": {
   "display_name": "Python 3 (ipykernel)",
   "language": "python",
   "name": "python3"
  },
  "language_info": {
   "codemirror_mode": {
    "name": "ipython",
    "version": 3
   },
   "file_extension": ".py",
   "mimetype": "text/x-python",
   "name": "python",
   "nbconvert_exporter": "python",
   "pygments_lexer": "ipython3",
   "version": "3.8.13"
  }
 },
 "nbformat": 4,
 "nbformat_minor": 5
}
